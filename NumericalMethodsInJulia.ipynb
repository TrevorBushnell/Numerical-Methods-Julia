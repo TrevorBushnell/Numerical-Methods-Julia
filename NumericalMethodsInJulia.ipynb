{
 "cells": [
  {
   "cell_type": "markdown",
   "metadata": {},
   "source": [
    "# Numerical Methods in Julia\n",
    "\n",
    "This notebook provides some code for some common numerical methods found and used in most numerical methods classes. There are various different types of algorithms to discuss, including:\n",
    "\n",
    "* root finding algorithms\n",
    "* algorithms for solving linear systems\n",
    "* linear regression algorithms\n",
    "* differentiation algorithms\n",
    "* integration algorithms\n",
    "* differential equation solver algorithms"
   ]
  },
  {
   "cell_type": "markdown",
   "metadata": {},
   "source": [
    "## Root Finding Algorithms"
   ]
  },
  {
   "cell_type": "markdown",
   "metadata": {},
   "source": [
    "### Bisection Method\n",
    "\n",
    "The bisection method is a consequence of the IVT (Intermediate Value Theorem) from calculus. Essentially, if $f(a)$ and $f(b)$ are of opposite sign, then we are guaranteed that there is some point in the interval $(a,b)$ such that the output of $f$ is 0. The algorithm uses this fact to shrink the length of the interval until the root is found.\n",
    "\n",
    "> **GENERAL ALGORITHM PROCEDURE:**\n",
    "> \n",
    "> 1. Let $x_0 = \\frac{b+a}{2}$. Check $f(x_0)$ and update $b_1 = x_0$, $a_1 = x_0$\n",
    "> 2. Let $x_1 = \\frac{b_1+a_1}{2}$. Check $f(x_0)$ and update $b_2 = b_1$, $a_3 = x_2$\n",
    "> 3. Let $x_0 = \\frac{b_2 + a_2}{2}$. Check $f(x_0)$ and update $b_3 = b_2$, $a_3 = a_2$\n",
    "\n",
    "While this algorithm is very simplistic in nature, it tends to be a very slow algorithm and isn't used all that often.\n",
    "\n",
    "The code for the bisection method in Julia is written below:"
   ]
  },
  {
   "cell_type": "code",
   "execution_count": 3,
   "metadata": {},
   "outputs": [
    {
     "data": {
      "text/plain": [
       "bisection_method (generic function with 1 method)"
      ]
     },
     "execution_count": 3,
     "metadata": {},
     "output_type": "execute_result"
    }
   ],
   "source": [
    "function bisection_method(f, a, b, tol)\n",
    "    residual = Inf\n",
    "    n = 0;\n",
    "\n",
    "    while (residual > tol)\n",
    "        x_n = (a+b) / 2\n",
    "        residual = abs(f(x_n))\n",
    "\n",
    "        if f(a) * f(b) < 0\n",
    "            b = x_n\n",
    "        else\n",
    "            a = x_n\n",
    "        end\n",
    "\n",
    "        n = n + 1\n",
    "    end\n",
    "\n",
    "    return x_n, n\n",
    "end"
   ]
  },
  {
   "cell_type": "markdown",
   "metadata": {},
   "source": [
    "Here's the algorithm in action working to try and find a root to the function $x^2 - 3$:"
   ]
  },
  {
   "cell_type": "code",
   "execution_count": null,
   "metadata": {},
   "outputs": [],
   "source": [
    "f = x -> x.^2 - 3\n",
    "\n",
    "a = 0\n",
    "b = 2\n",
    "tol = 1e-7\n",
    "\n",
    "x_approx, num_iterations = bisection_method(f, a, b, tol)\n",
    "\n",
    "x_true = sqrt(3) # true root\n",
    "abs_err = (abs(x_approx - x_true))\n",
    "\n",
    "print('Approximate value of the root: ')\n",
    "println(x_approx)\n",
    "print('Absolute error: ')\n",
    "println(abs_err)"
   ]
  },
  {
   "cell_type": "markdown",
   "metadata": {},
   "source": [
    "### Fixed Point Method\n",
    "\n",
    "The Fixed Point method is another algorithm for finding the roots of equations. It's better than the bisection method, however there are some ways in which you can break the algorithm (an example of which will be listed after we code this up). This ends up having linear converge which is better than the bisection method. \n",
    "\n",
    "> **GENERAL BISECTION METHOD ALGORITHM:**\n",
    ">\n",
    "> 1. Rearrange the equation to solve for $x$\n",
    "> 2. The solution to the above is denoted with $g(x)$. A solution to $g(x)$ is called a *fixed point* of $g(x)$\n",
    "> 3. WRite a recurrence relation $x_{k+1} = g(x_k)$ where $x_0$ is some initla guess in $[a,b]$."
   ]
  }
 ],
 "metadata": {
  "kernelspec": {
   "display_name": "Julia 1.7.0",
   "language": "julia",
   "name": "julia-1.7"
  },
  "language_info": {
   "file_extension": ".jl",
   "mimetype": "application/julia",
   "name": "julia",
   "version": "1.7.0"
  },
  "orig_nbformat": 4
 },
 "nbformat": 4,
 "nbformat_minor": 2
}
